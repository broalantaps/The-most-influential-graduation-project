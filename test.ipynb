{
 "cells": [
  {
   "cell_type": "code",
   "execution_count": null,
   "id": "d5d97c3c",
   "metadata": {},
   "outputs": [
    {
     "name": "stderr",
     "output_type": "stream",
     "text": [
      "/home/slgx/miniconda3/envs/memagent/lib/python3.11/site-packages/tqdm/auto.py:21: TqdmWarning: IProgress not found. Please update jupyter and ipywidgets. See https://ipywidgets.readthedocs.io/en/stable/user_install.html\n",
      "  from .autonotebook import tqdm as notebook_tqdm\n"
     ]
    },
    {
     "data": {
      "text/plain": [
       "Qwen3AgenticConfig {\n",
       "  \"architectures\": [\n",
       "    \"Qwen3Agentic\"\n",
       "  ],\n",
       "  \"auto_map\": {\n",
       "    \"AutoConfig\": \"configuration_qwen_agentic.Qwen3AgenticConfig\",\n",
       "    \"AutoModel\": \"modeling_qwen_agentic.Qwen3Agentic\",\n",
       "    \"AutoModelForCausalLM\": \"modeling_qwen_agentic.Qwen3Agentic\"\n",
       "  },\n",
       "  \"compressor_config\": {\n",
       "    \"architectures\": [\n",
       "      \"Qwen3ForCausalLM\"\n",
       "    ],\n",
       "    \"attention_bias\": false,\n",
       "    \"attention_dropout\": 0.0,\n",
       "    \"base_model\": \"/home/slgx/yuhong/base_model/Qwen/Qwen3-0.6B\",\n",
       "    \"bos_token_id\": 151643,\n",
       "    \"dtype\": \"bfloat16\",\n",
       "    \"eos_token_id\": 151645,\n",
       "    \"head_dim\": 128,\n",
       "    \"hidden_act\": \"silu\",\n",
       "    \"hidden_size\": 1024,\n",
       "    \"initializer_range\": 0.02,\n",
       "    \"intermediate_size\": 3072,\n",
       "    \"layer_types\": [\n",
       "      \"full_attention\",\n",
       "      \"full_attention\",\n",
       "      \"full_attention\",\n",
       "      \"full_attention\",\n",
       "      \"full_attention\",\n",
       "      \"full_attention\",\n",
       "      \"full_attention\",\n",
       "      \"full_attention\",\n",
       "      \"full_attention\",\n",
       "      \"full_attention\",\n",
       "      \"full_attention\",\n",
       "      \"full_attention\",\n",
       "      \"full_attention\",\n",
       "      \"full_attention\",\n",
       "      \"full_attention\",\n",
       "      \"full_attention\",\n",
       "      \"full_attention\",\n",
       "      \"full_attention\",\n",
       "      \"full_attention\",\n",
       "      \"full_attention\",\n",
       "      \"full_attention\",\n",
       "      \"full_attention\",\n",
       "      \"full_attention\",\n",
       "      \"full_attention\",\n",
       "      \"full_attention\",\n",
       "      \"full_attention\",\n",
       "      \"full_attention\",\n",
       "      \"full_attention\"\n",
       "    ],\n",
       "    \"max_position_embeddings\": 40960,\n",
       "    \"max_segment_length\": 2048,\n",
       "    \"max_window_layers\": 28,\n",
       "    \"mem_token_num\": 512,\n",
       "    \"model_type\": \"compressor\",\n",
       "    \"num_attention_heads\": 16,\n",
       "    \"num_hidden_layers\": 28,\n",
       "    \"num_key_value_heads\": 8,\n",
       "    \"rms_norm_eps\": 1e-06,\n",
       "    \"rope_scaling\": null,\n",
       "    \"rope_theta\": 1000000,\n",
       "    \"sliding_window\": null,\n",
       "    \"tie_word_embeddings\": true,\n",
       "    \"use_cache\": true,\n",
       "    \"use_sliding_window\": false,\n",
       "    \"vocab_size\": 151936\n",
       "  },\n",
       "  \"converter_config\": {\n",
       "    \"architectures\": [\n",
       "      \"Qwen3MLP\"\n",
       "    ],\n",
       "    \"hidden_act\": \"silu\",\n",
       "    \"hidden_size\": 3072,\n",
       "    \"input_hidden_size\": 1024,\n",
       "    \"intermediate_size\": 3072,\n",
       "    \"model_type\": \"converter\",\n",
       "    \"output_hidden_size\": 5120,\n",
       "    \"rms_norm_eps\": 1e-06\n",
       "  },\n",
       "  \"decoder_config\": {\n",
       "    \"architectures\": [\n",
       "      \"Qwen3ForCausalLM\"\n",
       "    ],\n",
       "    \"attention_bias\": false,\n",
       "    \"attention_dropout\": 0.0,\n",
       "    \"base_model\": \"/home/slgx/yuhong/base_model/Qwen/Qwen3-14B\",\n",
       "    \"bos_token_id\": 151643,\n",
       "    \"dtype\": \"bfloat16\",\n",
       "    \"eos_token_id\": 151645,\n",
       "    \"head_dim\": 128,\n",
       "    \"hidden_act\": \"silu\",\n",
       "    \"hidden_size\": 5120,\n",
       "    \"initializer_range\": 0.02,\n",
       "    \"intermediate_size\": 17408,\n",
       "    \"layer_types\": [\n",
       "      \"full_attention\",\n",
       "      \"full_attention\",\n",
       "      \"full_attention\",\n",
       "      \"full_attention\",\n",
       "      \"full_attention\",\n",
       "      \"full_attention\",\n",
       "      \"full_attention\",\n",
       "      \"full_attention\",\n",
       "      \"full_attention\",\n",
       "      \"full_attention\",\n",
       "      \"full_attention\",\n",
       "      \"full_attention\",\n",
       "      \"full_attention\",\n",
       "      \"full_attention\",\n",
       "      \"full_attention\",\n",
       "      \"full_attention\",\n",
       "      \"full_attention\",\n",
       "      \"full_attention\",\n",
       "      \"full_attention\",\n",
       "      \"full_attention\",\n",
       "      \"full_attention\",\n",
       "      \"full_attention\",\n",
       "      \"full_attention\",\n",
       "      \"full_attention\",\n",
       "      \"full_attention\",\n",
       "      \"full_attention\",\n",
       "      \"full_attention\",\n",
       "      \"full_attention\",\n",
       "      \"full_attention\",\n",
       "      \"full_attention\",\n",
       "      \"full_attention\",\n",
       "      \"full_attention\",\n",
       "      \"full_attention\",\n",
       "      \"full_attention\",\n",
       "      \"full_attention\",\n",
       "      \"full_attention\",\n",
       "      \"full_attention\",\n",
       "      \"full_attention\",\n",
       "      \"full_attention\",\n",
       "      \"full_attention\"\n",
       "    ],\n",
       "    \"max_position_embeddings\": 40960,\n",
       "    \"max_window_layers\": 40,\n",
       "    \"model_type\": \"compressor\",\n",
       "    \"num_attention_heads\": 40,\n",
       "    \"num_hidden_layers\": 40,\n",
       "    \"num_key_value_heads\": 8,\n",
       "    \"rms_norm_eps\": 1e-06,\n",
       "    \"rope_scaling\": null,\n",
       "    \"rope_theta\": 1000000,\n",
       "    \"sliding_window\": null,\n",
       "    \"use_cache\": true,\n",
       "    \"use_sliding_window\": false,\n",
       "    \"vocab_size\": 151936\n",
       "  },\n",
       "  \"dtype\": \"bfloat16\",\n",
       "  \"model_type\": \"qwen3_agentic\",\n",
       "  \"transformers_version\": \"4.56.1\"\n",
       "}"
      ]
     },
     "execution_count": 1,
     "metadata": {},
     "output_type": "execute_result"
    }
   ],
   "source": [
    "# 预训练代码\n",
    "\n",
    "\n",
    "from transformers import AutoTokenizer, AutoModelForCausalLM\n",
    "from model.configuration_qwen_agentic import CompressorConfig, ConverterConfig, DecoderConfig\n",
    "from model.modeling_qwen_agentic import Qwen3AgenticConfig, Qwen3AgenticModel, Qwen3Agentic\n",
    "\n",
    "import os\n",
    "os.environ['CUDA_VISIBLE_DEVICES'] = '0'\n",
    "config = Qwen3AgenticConfig.from_pretrained(\"./model\")\n",
    "config"
   ]
  },
  {
   "cell_type": "code",
   "execution_count": 2,
   "id": "c612b869",
   "metadata": {},
   "outputs": [
    {
     "name": "stdout",
     "output_type": "stream",
     "text": [
      "/home/slgx/yuhong/base_model/Qwen/Qwen3-0.6B\n"
     ]
    }
   ],
   "source": [
    "\n",
    "if hasattr(config.compressor_config, 'base_model'):\n",
    "    print(config.compressor_config.base_model)\n"
   ]
  },
  {
   "cell_type": "markdown",
   "id": "2d4987ac",
   "metadata": {},
   "source": []
  },
  {
   "cell_type": "code",
   "execution_count": 3,
   "id": "2ee45210",
   "metadata": {},
   "outputs": [
    {
     "name": "stdout",
     "output_type": "stream",
     "text": [
      "✅ 成功加载压缩器: 'Qwen/Qwen3-0.6B'\n",
      "✅ 初始化转换器完成\n"
     ]
    },
    {
     "name": "stderr",
     "output_type": "stream",
     "text": [
      "Loading checkpoint shards: 100%|██████████| 8/8 [00:05<00:00,  1.55it/s]"
     ]
    },
    {
     "name": "stdout",
     "output_type": "stream",
     "text": [
      "✅ 成功加载解码器: 'Qwen/Qwen3-14B\n"
     ]
    },
    {
     "name": "stderr",
     "output_type": "stream",
     "text": [
      "\n"
     ]
    },
    {
     "data": {
      "text/plain": [
       "Qwen3Agentic(\n",
       "  (compressor): Qwen3Model(\n",
       "    (embed_tokens): Embedding(151936, 1024)\n",
       "    (layers): ModuleList(\n",
       "      (0-27): 28 x Qwen3DecoderLayer(\n",
       "        (self_attn): Qwen3Attention(\n",
       "          (q_proj): Linear(in_features=1024, out_features=2048, bias=False)\n",
       "          (k_proj): Linear(in_features=1024, out_features=1024, bias=False)\n",
       "          (v_proj): Linear(in_features=1024, out_features=1024, bias=False)\n",
       "          (o_proj): Linear(in_features=2048, out_features=1024, bias=False)\n",
       "          (q_norm): Qwen3RMSNorm((128,), eps=1e-06)\n",
       "          (k_norm): Qwen3RMSNorm((128,), eps=1e-06)\n",
       "        )\n",
       "        (mlp): Qwen3MLP(\n",
       "          (gate_proj): Linear(in_features=1024, out_features=3072, bias=False)\n",
       "          (up_proj): Linear(in_features=1024, out_features=3072, bias=False)\n",
       "          (down_proj): Linear(in_features=3072, out_features=1024, bias=False)\n",
       "          (act_fn): SiLU()\n",
       "        )\n",
       "        (input_layernorm): Qwen3RMSNorm((1024,), eps=1e-06)\n",
       "        (post_attention_layernorm): Qwen3RMSNorm((1024,), eps=1e-06)\n",
       "      )\n",
       "    )\n",
       "    (norm): Qwen3RMSNorm((1024,), eps=1e-06)\n",
       "    (rotary_emb): Qwen3RotaryEmbedding()\n",
       "  )\n",
       "  (converter): MemoryConverter(\n",
       "    (gate_proj): Linear(in_features=3072, out_features=3072, bias=False)\n",
       "    (up_proj): Linear(in_features=3072, out_features=3072, bias=False)\n",
       "    (down_proj): Linear(in_features=3072, out_features=3072, bias=False)\n",
       "    (act_fn): SiLU()\n",
       "    (rms_norm): RMSNorm((3072,), eps=1e-06, elementwise_affine=True)\n",
       "  )\n",
       "  (decoder): Qwen3Model(\n",
       "    (embed_tokens): Embedding(151936, 5120)\n",
       "    (layers): ModuleList(\n",
       "      (0-39): 40 x Qwen3DecoderLayer(\n",
       "        (self_attn): Qwen3Attention(\n",
       "          (q_proj): Linear(in_features=5120, out_features=5120, bias=False)\n",
       "          (k_proj): Linear(in_features=5120, out_features=1024, bias=False)\n",
       "          (v_proj): Linear(in_features=5120, out_features=1024, bias=False)\n",
       "          (o_proj): Linear(in_features=5120, out_features=5120, bias=False)\n",
       "          (q_norm): Qwen3RMSNorm((128,), eps=1e-06)\n",
       "          (k_norm): Qwen3RMSNorm((128,), eps=1e-06)\n",
       "        )\n",
       "        (mlp): Qwen3MLP(\n",
       "          (gate_proj): Linear(in_features=5120, out_features=17408, bias=False)\n",
       "          (up_proj): Linear(in_features=5120, out_features=17408, bias=False)\n",
       "          (down_proj): Linear(in_features=17408, out_features=5120, bias=False)\n",
       "          (act_fn): SiLU()\n",
       "        )\n",
       "        (input_layernorm): Qwen3RMSNorm((5120,), eps=1e-06)\n",
       "        (post_attention_layernorm): Qwen3RMSNorm((5120,), eps=1e-06)\n",
       "      )\n",
       "    )\n",
       "    (norm): Qwen3RMSNorm((5120,), eps=1e-06)\n",
       "    (rotary_emb): Qwen3RotaryEmbedding()\n",
       "  )\n",
       ")"
      ]
     },
     "execution_count": 3,
     "metadata": {},
     "output_type": "execute_result"
    }
   ],
   "source": [
    "model = Qwen3Agentic(config)\n",
    "model"
   ]
  },
  {
   "cell_type": "code",
   "execution_count": 4,
   "id": "dd71fbfc",
   "metadata": {},
   "outputs": [
    {
     "data": {
      "text/plain": [
       "Qwen3Model(\n",
       "  (embed_tokens): Embedding(151936, 5120)\n",
       "  (layers): ModuleList(\n",
       "    (0-39): 40 x Qwen3DecoderLayer(\n",
       "      (self_attn): Qwen3Attention(\n",
       "        (q_proj): Linear(in_features=5120, out_features=5120, bias=False)\n",
       "        (k_proj): Linear(in_features=5120, out_features=1024, bias=False)\n",
       "        (v_proj): Linear(in_features=5120, out_features=1024, bias=False)\n",
       "        (o_proj): Linear(in_features=5120, out_features=5120, bias=False)\n",
       "        (q_norm): Qwen3RMSNorm((128,), eps=1e-06)\n",
       "        (k_norm): Qwen3RMSNorm((128,), eps=1e-06)\n",
       "      )\n",
       "      (mlp): Qwen3MLP(\n",
       "        (gate_proj): Linear(in_features=5120, out_features=17408, bias=False)\n",
       "        (up_proj): Linear(in_features=5120, out_features=17408, bias=False)\n",
       "        (down_proj): Linear(in_features=17408, out_features=5120, bias=False)\n",
       "        (act_fn): SiLU()\n",
       "      )\n",
       "      (input_layernorm): Qwen3RMSNorm((5120,), eps=1e-06)\n",
       "      (post_attention_layernorm): Qwen3RMSNorm((5120,), eps=1e-06)\n",
       "    )\n",
       "  )\n",
       "  (norm): Qwen3RMSNorm((5120,), eps=1e-06)\n",
       "  (rotary_emb): Qwen3RotaryEmbedding()\n",
       ")"
      ]
     },
     "execution_count": 4,
     "metadata": {},
     "output_type": "execute_result"
    }
   ],
   "source": [
    "model.decoder"
   ]
  },
  {
   "cell_type": "code",
   "execution_count": 6,
   "id": "cf154d4c",
   "metadata": {},
   "outputs": [],
   "source": [
    "tokenizer = AutoTokenizer.from_pretrained(\"Qwen/Qwen3-14B\")"
   ]
  },
  {
   "cell_type": "code",
   "execution_count": 10,
   "id": "f0a08335",
   "metadata": {},
   "outputs": [
    {
     "data": {
      "text/plain": [
       "'<|im_start|>user\\nHello, who are you?<|im_end|>\\n<|im_start|>assistant\\n'"
      ]
     },
     "execution_count": 10,
     "metadata": {},
     "output_type": "execute_result"
    }
   ],
   "source": [
    "prompt = \"Hello, who are you?\"\n",
    "message = [\n",
    "    {\"role\": \"user\", \"content\": prompt}\n",
    "]\n",
    "text = tokenizer.apply_chat_template(\n",
    "    message,\n",
    "    tokenize=False,\n",
    "    add_generation_prompt=True,\n",
    "    enable_thinking=True\n",
    ")\n",
    "text"
   ]
  },
  {
   "cell_type": "code",
   "execution_count": 12,
   "id": "80298413",
   "metadata": {},
   "outputs": [
    {
     "ename": "AttributeError",
     "evalue": "'Qwen3Model' object has no attribute 'generate'",
     "output_type": "error",
     "traceback": [
      "\u001b[31m---------------------------------------------------------------------------\u001b[39m",
      "\u001b[31mAttributeError\u001b[39m                            Traceback (most recent call last)",
      "\u001b[36mCell\u001b[39m\u001b[36m \u001b[39m\u001b[32mIn[12]\u001b[39m\u001b[32m, line 2\u001b[39m\n\u001b[32m      1\u001b[39m model_input = tokenizer([text], return_tensors=\u001b[33m\"\u001b[39m\u001b[33mpt\u001b[39m\u001b[33m\"\u001b[39m).to(\u001b[33m'\u001b[39m\u001b[33mcuda:0\u001b[39m\u001b[33m'\u001b[39m)\n\u001b[32m----> \u001b[39m\u001b[32m2\u001b[39m generate_ids = \u001b[43mmodel\u001b[49m\u001b[43m.\u001b[49m\u001b[43mdecoder\u001b[49m\u001b[43m.\u001b[49m\u001b[43mgenerate\u001b[49m(**model_input, max_new_tokens=\u001b[32m25\u001b[39m)\n",
      "\u001b[36mFile \u001b[39m\u001b[32m~/miniconda3/envs/memagent/lib/python3.11/site-packages/torch/nn/modules/module.py:1962\u001b[39m, in \u001b[36mModule.__getattr__\u001b[39m\u001b[34m(self, name)\u001b[39m\n\u001b[32m   1960\u001b[39m     \u001b[38;5;28;01mif\u001b[39;00m name \u001b[38;5;129;01min\u001b[39;00m modules:\n\u001b[32m   1961\u001b[39m         \u001b[38;5;28;01mreturn\u001b[39;00m modules[name]\n\u001b[32m-> \u001b[39m\u001b[32m1962\u001b[39m \u001b[38;5;28;01mraise\u001b[39;00m \u001b[38;5;167;01mAttributeError\u001b[39;00m(\n\u001b[32m   1963\u001b[39m     \u001b[33mf\u001b[39m\u001b[33m\"\u001b[39m\u001b[33m'\u001b[39m\u001b[38;5;132;01m{\u001b[39;00m\u001b[38;5;28mtype\u001b[39m(\u001b[38;5;28mself\u001b[39m).\u001b[34m__name__\u001b[39m\u001b[38;5;132;01m}\u001b[39;00m\u001b[33m'\u001b[39m\u001b[33m object has no attribute \u001b[39m\u001b[33m'\u001b[39m\u001b[38;5;132;01m{\u001b[39;00mname\u001b[38;5;132;01m}\u001b[39;00m\u001b[33m'\u001b[39m\u001b[33m\"\u001b[39m\n\u001b[32m   1964\u001b[39m )\n",
      "\u001b[31mAttributeError\u001b[39m: 'Qwen3Model' object has no attribute 'generate'"
     ]
    }
   ],
   "source": [
    "model_input = tokenizer([text], return_tensors=\"pt\").to('cuda:0')\n",
    "generate_ids = model.decoder.generate(**model_input, max_new_tokens=25)"
   ]
  },
  {
   "cell_type": "code",
   "execution_count": null,
   "id": "734dbb72",
   "metadata": {},
   "outputs": [],
   "source": []
  }
 ],
 "metadata": {
  "kernelspec": {
   "display_name": "memagent",
   "language": "python",
   "name": "python3"
  },
  "language_info": {
   "codemirror_mode": {
    "name": "ipython",
    "version": 3
   },
   "file_extension": ".py",
   "mimetype": "text/x-python",
   "name": "python",
   "nbconvert_exporter": "python",
   "pygments_lexer": "ipython3",
   "version": "3.11.0"
  }
 },
 "nbformat": 4,
 "nbformat_minor": 5
}
