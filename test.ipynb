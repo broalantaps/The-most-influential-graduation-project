{
 "cells": [
  {
   "cell_type": "code",
   "execution_count": 1,
   "id": "d5d97c3c",
   "metadata": {},
   "outputs": [
    {
     "name": "stderr",
     "output_type": "stream",
     "text": [
      "/home/slgx/miniconda3/envs/memagent/lib/python3.11/site-packages/tqdm/auto.py:21: TqdmWarning: IProgress not found. Please update jupyter and ipywidgets. See https://ipywidgets.readthedocs.io/en/stable/user_install.html\n",
      "  from .autonotebook import tqdm as notebook_tqdm\n"
     ]
    },
    {
     "data": {
      "text/plain": [
       "Qwen3AgenticConfig {\n",
       "  \"architectures\": [\n",
       "    \"Qwen3Agentic\"\n",
       "  ],\n",
       "  \"auto_map\": {\n",
       "    \"AutoConfig\": \"configuration_qwen_agentic.Qwen3AgenticConfig\",\n",
       "    \"AutoModel\": \"modeling_qwen_agentic.Qwen3Agentic\",\n",
       "    \"AutoModelForCausalLM\": \"modeling_qwen_agentic.Qwen3Agentic\"\n",
       "  },\n",
       "  \"compressor_config\": {\n",
       "    \"architectures\": [\n",
       "      \"Qwen3ForCausalLM\"\n",
       "    ],\n",
       "    \"attention_bias\": false,\n",
       "    \"attention_dropout\": 0.0,\n",
       "    \"base_model\": \"/home/slgx/yuhong/base_model/Qwen/Qwen3-0.6B\",\n",
       "    \"bos_token_id\": 151643,\n",
       "    \"dtype\": \"bfloat16\",\n",
       "    \"eos_token_id\": 151645,\n",
       "    \"head_dim\": 128,\n",
       "    \"hidden_act\": \"silu\",\n",
       "    \"hidden_size\": 1024,\n",
       "    \"initializer_range\": 0.02,\n",
       "    \"intermediate_size\": 3072,\n",
       "    \"layer_types\": [\n",
       "      \"full_attention\",\n",
       "      \"full_attention\",\n",
       "      \"full_attention\",\n",
       "      \"full_attention\",\n",
       "      \"full_attention\",\n",
       "      \"full_attention\",\n",
       "      \"full_attention\",\n",
       "      \"full_attention\",\n",
       "      \"full_attention\",\n",
       "      \"full_attention\",\n",
       "      \"full_attention\",\n",
       "      \"full_attention\",\n",
       "      \"full_attention\",\n",
       "      \"full_attention\",\n",
       "      \"full_attention\",\n",
       "      \"full_attention\",\n",
       "      \"full_attention\",\n",
       "      \"full_attention\",\n",
       "      \"full_attention\",\n",
       "      \"full_attention\",\n",
       "      \"full_attention\",\n",
       "      \"full_attention\",\n",
       "      \"full_attention\",\n",
       "      \"full_attention\",\n",
       "      \"full_attention\",\n",
       "      \"full_attention\",\n",
       "      \"full_attention\",\n",
       "      \"full_attention\"\n",
       "    ],\n",
       "    \"max_position_embeddings\": 40960,\n",
       "    \"max_segment_length\": 2048,\n",
       "    \"max_window_layers\": 28,\n",
       "    \"mem_token_num\": 512,\n",
       "    \"membos_token_id\": 151668,\n",
       "    \"memeos_token_id\": 151669,\n",
       "    \"model_type\": \"compressor\",\n",
       "    \"num_attention_heads\": 16,\n",
       "    \"num_hidden_layers\": 28,\n",
       "    \"num_key_value_heads\": 8,\n",
       "    \"rms_norm_eps\": 1e-06,\n",
       "    \"rope_scaling\": null,\n",
       "    \"rope_theta\": 1000000,\n",
       "    \"sliding_window\": null,\n",
       "    \"tie_word_embeddings\": true,\n",
       "    \"use_cache\": true,\n",
       "    \"use_sliding_window\": false,\n",
       "    \"vocab_size\": 151936\n",
       "  },\n",
       "  \"converter_config\": {\n",
       "    \"architectures\": [\n",
       "      \"Qwen3MLP\"\n",
       "    ],\n",
       "    \"hidden_act\": \"silu\",\n",
       "    \"hidden_size\": 3072,\n",
       "    \"input_hidden_size\": 1024,\n",
       "    \"intermediate_size\": 3072,\n",
       "    \"model_type\": \"converter\",\n",
       "    \"output_hidden_size\": 5120,\n",
       "    \"rms_norm_eps\": 1e-06\n",
       "  },\n",
       "  \"decoder_config\": {\n",
       "    \"architectures\": [\n",
       "      \"Qwen3ForCausalLM\"\n",
       "    ],\n",
       "    \"attention_bias\": false,\n",
       "    \"attention_dropout\": 0.0,\n",
       "    \"base_model\": \"/home/slgx/yuhong/base_model/Qwen/Qwen3-14B\",\n",
       "    \"bos_token_id\": 151643,\n",
       "    \"dtype\": \"bfloat16\",\n",
       "    \"eos_token_id\": 151645,\n",
       "    \"head_dim\": 128,\n",
       "    \"hidden_act\": \"silu\",\n",
       "    \"hidden_size\": 5120,\n",
       "    \"initializer_range\": 0.02,\n",
       "    \"intermediate_size\": 17408,\n",
       "    \"layer_types\": [\n",
       "      \"full_attention\",\n",
       "      \"full_attention\",\n",
       "      \"full_attention\",\n",
       "      \"full_attention\",\n",
       "      \"full_attention\",\n",
       "      \"full_attention\",\n",
       "      \"full_attention\",\n",
       "      \"full_attention\",\n",
       "      \"full_attention\",\n",
       "      \"full_attention\",\n",
       "      \"full_attention\",\n",
       "      \"full_attention\",\n",
       "      \"full_attention\",\n",
       "      \"full_attention\",\n",
       "      \"full_attention\",\n",
       "      \"full_attention\",\n",
       "      \"full_attention\",\n",
       "      \"full_attention\",\n",
       "      \"full_attention\",\n",
       "      \"full_attention\",\n",
       "      \"full_attention\",\n",
       "      \"full_attention\",\n",
       "      \"full_attention\",\n",
       "      \"full_attention\",\n",
       "      \"full_attention\",\n",
       "      \"full_attention\",\n",
       "      \"full_attention\",\n",
       "      \"full_attention\",\n",
       "      \"full_attention\",\n",
       "      \"full_attention\",\n",
       "      \"full_attention\",\n",
       "      \"full_attention\",\n",
       "      \"full_attention\",\n",
       "      \"full_attention\",\n",
       "      \"full_attention\",\n",
       "      \"full_attention\",\n",
       "      \"full_attention\",\n",
       "      \"full_attention\",\n",
       "      \"full_attention\",\n",
       "      \"full_attention\"\n",
       "    ],\n",
       "    \"max_position_embeddings\": 40960,\n",
       "    \"max_window_layers\": 40,\n",
       "    \"model_type\": \"compressor\",\n",
       "    \"num_attention_heads\": 40,\n",
       "    \"num_hidden_layers\": 40,\n",
       "    \"num_key_value_heads\": 8,\n",
       "    \"rms_norm_eps\": 1e-06,\n",
       "    \"rope_scaling\": null,\n",
       "    \"rope_theta\": 1000000,\n",
       "    \"sliding_window\": null,\n",
       "    \"use_cache\": true,\n",
       "    \"use_sliding_window\": false,\n",
       "    \"vocab_size\": 151936\n",
       "  },\n",
       "  \"dtype\": \"bfloat16\",\n",
       "  \"model_type\": \"qwen3_agentic\",\n",
       "  \"transformers_version\": \"4.56.1\"\n",
       "}"
      ]
     },
     "execution_count": 1,
     "metadata": {},
     "output_type": "execute_result"
    }
   ],
   "source": [
    "# 预训练代码\n",
    "\n",
    "\n",
    "from transformers import AutoTokenizer, AutoModelForCausalLM\n",
    "from model.configuration_qwen_agentic import CompressorConfig, ConverterConfig, DecoderConfig\n",
    "from model.modeling_qwen_agentic import Qwen3AgenticConfig, Qwen3AgenticModel, Qwen3Agentic\n",
    "\n",
    "import os\n",
    "os.environ['CUDA_VISIBLE_DEVICES'] = '0'\n",
    "config = Qwen3AgenticConfig.from_pretrained(\"./model\")\n",
    "config"
   ]
  },
  {
   "cell_type": "code",
   "execution_count": 2,
   "id": "c612b869",
   "metadata": {},
   "outputs": [
    {
     "name": "stdout",
     "output_type": "stream",
     "text": [
      "/home/slgx/yuhong/base_model/Qwen/Qwen3-0.6B\n"
     ]
    }
   ],
   "source": [
    "\n",
    "if hasattr(config.compressor_config, 'base_model'):\n",
    "    print(config.compressor_config.base_model)\n"
   ]
  },
  {
   "cell_type": "markdown",
   "id": "2d4987ac",
   "metadata": {},
   "source": []
  },
  {
   "cell_type": "code",
   "execution_count": 2,
   "id": "2ee45210",
   "metadata": {},
   "outputs": [
    {
     "name": "stderr",
     "output_type": "stream",
     "text": [
      "`torch_dtype` is deprecated! Use `dtype` instead!\n"
     ]
    },
    {
     "name": "stderr",
     "output_type": "stream",
     "text": [
      "Loading checkpoint shards: 100%|██████████| 8/8 [00:00<00:00, 110.23it/s]\n",
      "Loading checkpoint shards: 100%|██████████| 7/7 [00:08<00:00,  1.20s/it]\n"
     ]
    },
    {
     "data": {
      "text/plain": [
       "Qwen3Agentic(\n",
       "  (compressor): Qwen3Model(\n",
       "    (embed_tokens): Embedding(151936, 1024)\n",
       "    (layers): ModuleList(\n",
       "      (0-27): 28 x Qwen3DecoderLayer(\n",
       "        (self_attn): Qwen3Attention(\n",
       "          (q_proj): Linear(in_features=1024, out_features=2048, bias=False)\n",
       "          (k_proj): Linear(in_features=1024, out_features=1024, bias=False)\n",
       "          (v_proj): Linear(in_features=1024, out_features=1024, bias=False)\n",
       "          (o_proj): Linear(in_features=2048, out_features=1024, bias=False)\n",
       "          (q_norm): Qwen3RMSNorm((128,), eps=1e-06)\n",
       "          (k_norm): Qwen3RMSNorm((128,), eps=1e-06)\n",
       "        )\n",
       "        (mlp): Qwen3MLP(\n",
       "          (gate_proj): Linear(in_features=1024, out_features=3072, bias=False)\n",
       "          (up_proj): Linear(in_features=1024, out_features=3072, bias=False)\n",
       "          (down_proj): Linear(in_features=3072, out_features=1024, bias=False)\n",
       "          (act_fn): SiLU()\n",
       "        )\n",
       "        (input_layernorm): Qwen3RMSNorm((1024,), eps=1e-06)\n",
       "        (post_attention_layernorm): Qwen3RMSNorm((1024,), eps=1e-06)\n",
       "      )\n",
       "    )\n",
       "    (norm): Qwen3RMSNorm((1024,), eps=1e-06)\n",
       "    (rotary_emb): Qwen3RotaryEmbedding()\n",
       "  )\n",
       "  (converter): MemoryConverter(\n",
       "    (gate_proj): Linear(in_features=3072, out_features=3072, bias=False)\n",
       "    (up_proj): Linear(in_features=3072, out_features=3072, bias=False)\n",
       "    (down_proj): Linear(in_features=3072, out_features=3072, bias=False)\n",
       "    (act_fn): SiLU()\n",
       "    (rms_norm): RMSNorm((3072,), eps=1e-06, elementwise_affine=True)\n",
       "  )\n",
       "  (decoder): Qwen3ForCausalLM(\n",
       "    (model): Qwen3Model(\n",
       "      (embed_tokens): Embedding(151936, 5120)\n",
       "      (layers): ModuleList(\n",
       "        (0-39): 40 x Qwen3DecoderLayer(\n",
       "          (self_attn): Qwen3Attention(\n",
       "            (q_proj): Linear(in_features=5120, out_features=5120, bias=False)\n",
       "            (k_proj): Linear(in_features=5120, out_features=1024, bias=False)\n",
       "            (v_proj): Linear(in_features=5120, out_features=1024, bias=False)\n",
       "            (o_proj): Linear(in_features=5120, out_features=5120, bias=False)\n",
       "            (q_norm): Qwen3RMSNorm((128,), eps=1e-06)\n",
       "            (k_norm): Qwen3RMSNorm((128,), eps=1e-06)\n",
       "          )\n",
       "          (mlp): Qwen3MLP(\n",
       "            (gate_proj): Linear(in_features=5120, out_features=17408, bias=False)\n",
       "            (up_proj): Linear(in_features=5120, out_features=17408, bias=False)\n",
       "            (down_proj): Linear(in_features=17408, out_features=5120, bias=False)\n",
       "            (act_fn): SiLU()\n",
       "          )\n",
       "          (input_layernorm): Qwen3RMSNorm((5120,), eps=1e-06)\n",
       "          (post_attention_layernorm): Qwen3RMSNorm((5120,), eps=1e-06)\n",
       "        )\n",
       "      )\n",
       "      (norm): Qwen3RMSNorm((5120,), eps=1e-06)\n",
       "      (rotary_emb): Qwen3RotaryEmbedding()\n",
       "    )\n",
       "    (lm_head): Linear(in_features=5120, out_features=151936, bias=False)\n",
       "  )\n",
       ")"
      ]
     },
     "execution_count": 2,
     "metadata": {},
     "output_type": "execute_result"
    }
   ],
   "source": [
    "model = Qwen3Agentic.from_pretrained(\"/home/slgx/yuhong/base_model/Qwen/Qwen3-Agentic\", device_map=\"auto\").to(\"cuda\")\n",
    "model"
   ]
  },
  {
   "cell_type": "code",
   "execution_count": 3,
   "id": "cf14f1b5",
   "metadata": {},
   "outputs": [
    {
     "ename": "AttributeError",
     "evalue": "'Qwen3Agentic' object has no attribute 'tokenizer'",
     "output_type": "error",
     "traceback": [
      "\u001b[31m---------------------------------------------------------------------------\u001b[39m",
      "\u001b[31mAttributeError\u001b[39m                            Traceback (most recent call last)",
      "\u001b[36mCell\u001b[39m\u001b[36m \u001b[39m\u001b[32mIn[3]\u001b[39m\u001b[32m, line 1\u001b[39m\n\u001b[32m----> \u001b[39m\u001b[32m1\u001b[39m \u001b[38;5;28mprint\u001b[39m(\u001b[43mmodel\u001b[49m\u001b[43m.\u001b[49m\u001b[43mtokenizer\u001b[49m)\n",
      "\u001b[36mFile \u001b[39m\u001b[32m~/miniconda3/envs/memagent/lib/python3.11/site-packages/torch/nn/modules/module.py:1962\u001b[39m, in \u001b[36mModule.__getattr__\u001b[39m\u001b[34m(self, name)\u001b[39m\n\u001b[32m   1960\u001b[39m     \u001b[38;5;28;01mif\u001b[39;00m name \u001b[38;5;129;01min\u001b[39;00m modules:\n\u001b[32m   1961\u001b[39m         \u001b[38;5;28;01mreturn\u001b[39;00m modules[name]\n\u001b[32m-> \u001b[39m\u001b[32m1962\u001b[39m \u001b[38;5;28;01mraise\u001b[39;00m \u001b[38;5;167;01mAttributeError\u001b[39;00m(\n\u001b[32m   1963\u001b[39m     \u001b[33mf\u001b[39m\u001b[33m\"\u001b[39m\u001b[33m'\u001b[39m\u001b[38;5;132;01m{\u001b[39;00m\u001b[38;5;28mtype\u001b[39m(\u001b[38;5;28mself\u001b[39m).\u001b[34m__name__\u001b[39m\u001b[38;5;132;01m}\u001b[39;00m\u001b[33m'\u001b[39m\u001b[33m object has no attribute \u001b[39m\u001b[33m'\u001b[39m\u001b[38;5;132;01m{\u001b[39;00mname\u001b[38;5;132;01m}\u001b[39;00m\u001b[33m'\u001b[39m\u001b[33m\"\u001b[39m\n\u001b[32m   1964\u001b[39m )\n",
      "\u001b[31mAttributeError\u001b[39m: 'Qwen3Agentic' object has no attribute 'tokenizer'"
     ]
    }
   ],
   "source": [
    "print(model.tokenizer)"
   ]
  },
  {
   "cell_type": "code",
   "execution_count": null,
   "id": "4d97608f",
   "metadata": {},
   "outputs": [
    {
     "data": {
      "text/plain": [
       "('/home/slgx/yuhong/base_model/Qwen/Qwen3-Agentic/tokenizer_config.json',\n",
       " '/home/slgx/yuhong/base_model/Qwen/Qwen3-Agentic/special_tokens_map.json',\n",
       " '/home/slgx/yuhong/base_model/Qwen/Qwen3-Agentic/chat_template.jinja',\n",
       " '/home/slgx/yuhong/base_model/Qwen/Qwen3-Agentic/vocab.json',\n",
       " '/home/slgx/yuhong/base_model/Qwen/Qwen3-Agentic/merges.txt',\n",
       " '/home/slgx/yuhong/base_model/Qwen/Qwen3-Agentic/added_tokens.json',\n",
       " '/home/slgx/yuhong/base_model/Qwen/Qwen3-Agentic/tokenizer.json')"
      ]
     },
     "execution_count": 5,
     "metadata": {},
     "output_type": "execute_result"
    }
   ],
   "source": [
    "model.tokenizer.save_pretrained(\"/home/slgx/yuhong/base_model/Qwen/Qwen3-Agentic\")"
   ]
  },
  {
   "cell_type": "code",
   "execution_count": 5,
   "id": "b5edb05a",
   "metadata": {},
   "outputs": [
    {
     "data": {
      "text/plain": [
       "Qwen3AgenticConfig {\n",
       "  \"architectures\": [\n",
       "    \"Qwen3Agentic\"\n",
       "  ],\n",
       "  \"auto_map\": {\n",
       "    \"AutoConfig\": \"configuration_qwen_agentic.Qwen3AgenticConfig\",\n",
       "    \"AutoModel\": \"modeling_qwen_agentic.Qwen3Agentic\",\n",
       "    \"AutoModelForCausalLM\": \"modeling_qwen_agentic.Qwen3Agentic\"\n",
       "  },\n",
       "  \"compressor_config\": {\n",
       "    \"architectures\": [\n",
       "      \"Qwen3ForCausalLM\"\n",
       "    ],\n",
       "    \"attention_bias\": false,\n",
       "    \"attention_dropout\": 0.0,\n",
       "    \"base_model\": \"/home/slgx/yuhong/base_model/Qwen/Qwen3-0.6B\",\n",
       "    \"bos_token_id\": 151643,\n",
       "    \"dtype\": \"bfloat16\",\n",
       "    \"eos_token_id\": 151645,\n",
       "    \"head_dim\": 128,\n",
       "    \"hidden_act\": \"silu\",\n",
       "    \"hidden_size\": 1024,\n",
       "    \"initializer_range\": 0.02,\n",
       "    \"intermediate_size\": 3072,\n",
       "    \"layer_types\": [\n",
       "      \"full_attention\",\n",
       "      \"full_attention\",\n",
       "      \"full_attention\",\n",
       "      \"full_attention\",\n",
       "      \"full_attention\",\n",
       "      \"full_attention\",\n",
       "      \"full_attention\",\n",
       "      \"full_attention\",\n",
       "      \"full_attention\",\n",
       "      \"full_attention\",\n",
       "      \"full_attention\",\n",
       "      \"full_attention\",\n",
       "      \"full_attention\",\n",
       "      \"full_attention\",\n",
       "      \"full_attention\",\n",
       "      \"full_attention\",\n",
       "      \"full_attention\",\n",
       "      \"full_attention\",\n",
       "      \"full_attention\",\n",
       "      \"full_attention\",\n",
       "      \"full_attention\",\n",
       "      \"full_attention\",\n",
       "      \"full_attention\",\n",
       "      \"full_attention\",\n",
       "      \"full_attention\",\n",
       "      \"full_attention\",\n",
       "      \"full_attention\",\n",
       "      \"full_attention\"\n",
       "    ],\n",
       "    \"max_position_embeddings\": 40960,\n",
       "    \"max_segment_length\": 2048,\n",
       "    \"max_window_layers\": 28,\n",
       "    \"mem_token_num\": 512,\n",
       "    \"model_type\": \"compressor\",\n",
       "    \"num_attention_heads\": 16,\n",
       "    \"num_hidden_layers\": 28,\n",
       "    \"num_key_value_heads\": 8,\n",
       "    \"rms_norm_eps\": 1e-06,\n",
       "    \"rope_scaling\": null,\n",
       "    \"rope_theta\": 1000000,\n",
       "    \"sliding_window\": null,\n",
       "    \"tie_word_embeddings\": true,\n",
       "    \"use_cache\": true,\n",
       "    \"use_sliding_window\": false,\n",
       "    \"vocab_size\": 151936\n",
       "  },\n",
       "  \"converter_config\": {\n",
       "    \"architectures\": [\n",
       "      \"Qwen3MLP\"\n",
       "    ],\n",
       "    \"hidden_act\": \"silu\",\n",
       "    \"hidden_size\": 3072,\n",
       "    \"input_hidden_size\": 1024,\n",
       "    \"intermediate_size\": 3072,\n",
       "    \"model_type\": \"converter\",\n",
       "    \"output_hidden_size\": 5120,\n",
       "    \"rms_norm_eps\": 1e-06\n",
       "  },\n",
       "  \"decoder_config\": {\n",
       "    \"architectures\": [\n",
       "      \"Qwen3ForCausalLM\"\n",
       "    ],\n",
       "    \"attention_bias\": false,\n",
       "    \"attention_dropout\": 0.0,\n",
       "    \"base_model\": \"/home/slgx/yuhong/base_model/Qwen/Qwen3-14B\",\n",
       "    \"bos_token_id\": 151643,\n",
       "    \"dtype\": \"bfloat16\",\n",
       "    \"eos_token_id\": 151645,\n",
       "    \"head_dim\": 128,\n",
       "    \"hidden_act\": \"silu\",\n",
       "    \"hidden_size\": 5120,\n",
       "    \"initializer_range\": 0.02,\n",
       "    \"intermediate_size\": 17408,\n",
       "    \"layer_types\": [\n",
       "      \"full_attention\",\n",
       "      \"full_attention\",\n",
       "      \"full_attention\",\n",
       "      \"full_attention\",\n",
       "      \"full_attention\",\n",
       "      \"full_attention\",\n",
       "      \"full_attention\",\n",
       "      \"full_attention\",\n",
       "      \"full_attention\",\n",
       "      \"full_attention\",\n",
       "      \"full_attention\",\n",
       "      \"full_attention\",\n",
       "      \"full_attention\",\n",
       "      \"full_attention\",\n",
       "      \"full_attention\",\n",
       "      \"full_attention\",\n",
       "      \"full_attention\",\n",
       "      \"full_attention\",\n",
       "      \"full_attention\",\n",
       "      \"full_attention\",\n",
       "      \"full_attention\",\n",
       "      \"full_attention\",\n",
       "      \"full_attention\",\n",
       "      \"full_attention\",\n",
       "      \"full_attention\",\n",
       "      \"full_attention\",\n",
       "      \"full_attention\",\n",
       "      \"full_attention\",\n",
       "      \"full_attention\",\n",
       "      \"full_attention\",\n",
       "      \"full_attention\",\n",
       "      \"full_attention\",\n",
       "      \"full_attention\",\n",
       "      \"full_attention\",\n",
       "      \"full_attention\",\n",
       "      \"full_attention\",\n",
       "      \"full_attention\",\n",
       "      \"full_attention\",\n",
       "      \"full_attention\",\n",
       "      \"full_attention\"\n",
       "    ],\n",
       "    \"max_position_embeddings\": 40960,\n",
       "    \"max_window_layers\": 40,\n",
       "    \"model_type\": \"compressor\",\n",
       "    \"num_attention_heads\": 40,\n",
       "    \"num_hidden_layers\": 40,\n",
       "    \"num_key_value_heads\": 8,\n",
       "    \"rms_norm_eps\": 1e-06,\n",
       "    \"rope_scaling\": null,\n",
       "    \"rope_theta\": 1000000,\n",
       "    \"sliding_window\": null,\n",
       "    \"use_cache\": true,\n",
       "    \"use_sliding_window\": false,\n",
       "    \"vocab_size\": 151936\n",
       "  },\n",
       "  \"dtype\": \"bfloat16\",\n",
       "  \"model_type\": \"qwen3_agentic\",\n",
       "  \"transformers_version\": \"4.56.1\"\n",
       "}"
      ]
     },
     "execution_count": 5,
     "metadata": {},
     "output_type": "execute_result"
    }
   ],
   "source": [
    "model.config"
   ]
  },
  {
   "cell_type": "code",
   "execution_count": 7,
   "id": "dd71fbfc",
   "metadata": {},
   "outputs": [
    {
     "data": {
      "text/plain": [
       "Qwen3Model(\n",
       "  (embed_tokens): Embedding(151936, 1024)\n",
       "  (layers): ModuleList(\n",
       "    (0-27): 28 x Qwen3DecoderLayer(\n",
       "      (self_attn): Qwen3Attention(\n",
       "        (q_proj): Linear(in_features=1024, out_features=2048, bias=False)\n",
       "        (k_proj): Linear(in_features=1024, out_features=1024, bias=False)\n",
       "        (v_proj): Linear(in_features=1024, out_features=1024, bias=False)\n",
       "        (o_proj): Linear(in_features=2048, out_features=1024, bias=False)\n",
       "        (q_norm): Qwen3RMSNorm((128,), eps=1e-06)\n",
       "        (k_norm): Qwen3RMSNorm((128,), eps=1e-06)\n",
       "      )\n",
       "      (mlp): Qwen3MLP(\n",
       "        (gate_proj): Linear(in_features=1024, out_features=3072, bias=False)\n",
       "        (up_proj): Linear(in_features=1024, out_features=3072, bias=False)\n",
       "        (down_proj): Linear(in_features=3072, out_features=1024, bias=False)\n",
       "        (act_fn): SiLU()\n",
       "      )\n",
       "      (input_layernorm): Qwen3RMSNorm((1024,), eps=1e-06)\n",
       "      (post_attention_layernorm): Qwen3RMSNorm((1024,), eps=1e-06)\n",
       "    )\n",
       "  )\n",
       "  (norm): Qwen3RMSNorm((1024,), eps=1e-06)\n",
       "  (rotary_emb): Qwen3RotaryEmbedding()\n",
       ")"
      ]
     },
     "execution_count": 7,
     "metadata": {},
     "output_type": "execute_result"
    }
   ],
   "source": [
    "model.compressor"
   ]
  },
  {
   "cell_type": "code",
   "execution_count": null,
   "id": "4eed0ad4",
   "metadata": {},
   "outputs": [
    {
     "name": "stdout",
     "output_type": "stream",
     "text": [
      "Qwen3Agentic(\n",
      "  (compressor): Qwen3Model(\n",
      "    (embed_tokens): Embedding(151936, 1024)\n",
      "    (layers): ModuleList(\n",
      "      (0-27): 28 x Qwen3DecoderLayer(\n",
      "        (self_attn): Qwen3Attention(\n",
      "          (q_proj): Linear(in_features=1024, out_features=2048, bias=False)\n",
      "          (k_proj): Linear(in_features=1024, out_features=1024, bias=False)\n",
      "          (v_proj): Linear(in_features=1024, out_features=1024, bias=False)\n",
      "          (o_proj): Linear(in_features=2048, out_features=1024, bias=False)\n",
      "          (q_norm): Qwen3RMSNorm((128,), eps=1e-06)\n",
      "          (k_norm): Qwen3RMSNorm((128,), eps=1e-06)\n",
      "        )\n",
      "        (mlp): Qwen3MLP(\n",
      "          (gate_proj): Linear(in_features=1024, out_features=3072, bias=False)\n",
      "          (up_proj): Linear(in_features=1024, out_features=3072, bias=False)\n",
      "          (down_proj): Linear(in_features=3072, out_features=1024, bias=False)\n",
      "          (act_fn): SiLU()\n",
      "        )\n",
      "        (input_layernorm): Qwen3RMSNorm((1024,), eps=1e-06)\n",
      "        (post_attention_layernorm): Qwen3RMSNorm((1024,), eps=1e-06)\n",
      "      )\n",
      "    )\n",
      "    (norm): Qwen3RMSNorm((1024,), eps=1e-06)\n",
      "    (rotary_emb): Qwen3RotaryEmbedding()\n",
      "  )\n",
      "  (converter): MemoryConverter(\n",
      "    (gate_proj): Linear(in_features=3072, out_features=3072, bias=False)\n",
      "    (up_proj): Linear(in_features=3072, out_features=3072, bias=False)\n",
      "    (down_proj): Linear(in_features=3072, out_features=3072, bias=False)\n",
      "    (act_fn): SiLU()\n",
      "    (rms_norm): RMSNorm((3072,), eps=1e-06, elementwise_affine=True)\n",
      "  )\n",
      "  (decoder): Qwen3ForCausalLM(\n",
      "    (model): Qwen3Model(\n",
      "      (embed_tokens): Embedding(151936, 5120)\n",
      "      (layers): ModuleList(\n",
      "        (0-39): 40 x Qwen3DecoderLayer(\n",
      "          (self_attn): Qwen3Attention(\n",
      "            (q_proj): Linear(in_features=5120, out_features=5120, bias=False)\n",
      "            (k_proj): Linear(in_features=5120, out_features=1024, bias=False)\n",
      "            (v_proj): Linear(in_features=5120, out_features=1024, bias=False)\n",
      "            (o_proj): Linear(in_features=5120, out_features=5120, bias=False)\n",
      "            (q_norm): Qwen3RMSNorm((128,), eps=1e-06)\n",
      "            (k_norm): Qwen3RMSNorm((128,), eps=1e-06)\n",
      "          )\n",
      "          (mlp): Qwen3MLP(\n",
      "            (gate_proj): Linear(in_features=5120, out_features=17408, bias=False)\n",
      "            (up_proj): Linear(in_features=5120, out_features=17408, bias=False)\n",
      "            (down_proj): Linear(in_features=17408, out_features=5120, bias=False)\n",
      "            (act_fn): SiLU()\n",
      "          )\n",
      "          (input_layernorm): Qwen3RMSNorm((5120,), eps=1e-06)\n",
      "          (post_attention_layernorm): Qwen3RMSNorm((5120,), eps=1e-06)\n",
      "        )\n",
      "      )\n",
      "      (norm): Qwen3RMSNorm((5120,), eps=1e-06)\n",
      "      (rotary_emb): Qwen3RotaryEmbedding()\n",
      "    )\n",
      "    (lm_head): Linear(in_features=5120, out_features=151936, bias=False)\n",
      "  )\n",
      ")\n"
     ]
    }
   ],
   "source": [
    "print(model)"
   ]
  },
  {
   "cell_type": "code",
   "execution_count": 4,
   "id": "cf154d4c",
   "metadata": {},
   "outputs": [],
   "source": [
    "tokenizer = AutoTokenizer.from_pretrained(\"Qwen/Qwen3-14B\")"
   ]
  },
  {
   "cell_type": "code",
   "execution_count": 12,
   "id": "f0a08335",
   "metadata": {},
   "outputs": [
    {
     "data": {
      "text/plain": [
       "\"<|im_start|>user\\nHello, what's result of 100*20+2?<|im_end|>\\n<|im_start|>assistant\\n\""
      ]
     },
     "execution_count": 12,
     "metadata": {},
     "output_type": "execute_result"
    }
   ],
   "source": [
    "prompt = \"Hello, what's result of 100*20+2?\"\n",
    "message = [\n",
    "    {\"role\": \"user\", \"content\": prompt}\n",
    "]\n",
    "text = tokenizer.apply_chat_template(\n",
    "    message,\n",
    "    tokenize=False,\n",
    "    add_generation_prompt=True,\n",
    "    enable_thinking=True\n",
    ")\n",
    "text"
   ]
  },
  {
   "cell_type": "code",
   "execution_count": 13,
   "id": "80298413",
   "metadata": {},
   "outputs": [],
   "source": [
    "model_input = tokenizer([text], return_tensors=\"pt\").to(\"cuda\")\n",
    "generate_ids = model.decoder.generate(**model_input, max_new_tokens=1024)"
   ]
  },
  {
   "cell_type": "code",
   "execution_count": 14,
   "id": "b518868e",
   "metadata": {},
   "outputs": [
    {
     "name": "stdout",
     "output_type": "stream",
     "text": [
      "thinking content: <think>\n",
      "Okay, let's see. The user is asking for the result of 100 multiplied by 20 plus 2. Alright, so first, I need to remember the order of operations here. In math problems, multiplication comes before addition unless there are parentheses that change the order. So, in this case, it's 100 times 20 first, and then add 2 to that result.\n",
      "\n",
      "Let me break it down step by step. First, calculate 100 multiplied by 20. Hmm, 100 times 20. Well, 100 times 10 is 1000, so 100 times 20 would be double that, right? So 1000 times 2 is 2000. So that part is 2000.\n",
      "\n",
      "Now, add 2 to that. So 2000 plus 2. That seems straightforward. 2000 plus 2 is 2002. Let me just verify that again. 100*20 is definitely 2000, and adding 2 gives 2002. I don't think I made any mistakes here. Maybe I can check using another method. For example, 100*20 is the same as 20*100, which is 2000. Then adding 2, so yes, 2002. \n",
      "\n",
      "Wait, is there any chance the user might have meant something else, like 100*(20+2)? But no, the original question was written as 100*20+2, so according to standard order of operations, multiplication comes first. If they wanted the addition to happen first, they would have used parentheses, like 100*(20+2). So I think my calculation is correct. \n",
      "\n",
      "Another way to think about it: 100*20 is 2000, and then adding 2 gives 2002. Yep, that's the same as before. I can't see any other interpretation here. So the answer should be 2002.\n",
      "</think>\n",
      "content: The result of $100 \\times 20 + 2$ is calculated as follows:\n",
      "\n",
      "1. **Multiplication first**:  \n",
      "   $100 \\times 20 = 2000$.\n",
      "\n",
      "2. **Addition**:  \n",
      "   $2000 + 2 = 2002$.\n",
      "\n",
      "**Final Answer**: $2002$.\n"
     ]
    }
   ],
   "source": [
    "output_ids = generate_ids[0][len(model_input.input_ids[0]):].tolist() \n",
    "\n",
    "# parsing thinking content\n",
    "try:\n",
    "    # rindex finding 151668 (</think>)\n",
    "    index = len(output_ids) - output_ids[::-1].index(151668)\n",
    "except ValueError:\n",
    "    index = 0\n",
    "\n",
    "thinking_content = tokenizer.decode(output_ids[:index], skip_special_tokens=True).strip(\"\\n\")\n",
    "content = tokenizer.decode(output_ids[index:], skip_special_tokens=True).strip(\"\\n\")\n",
    "\n",
    "print(\"thinking content:\", thinking_content)\n",
    "print(\"content:\", content)"
   ]
  },
  {
   "cell_type": "code",
   "execution_count": 17,
   "id": "734dbb72",
   "metadata": {},
   "outputs": [
    {
     "data": {
      "text/plain": [
       "MemoryConverter(\n",
       "  (gate_proj): Linear(in_features=3072, out_features=3072, bias=False)\n",
       "  (up_proj): Linear(in_features=3072, out_features=3072, bias=False)\n",
       "  (down_proj): Linear(in_features=3072, out_features=3072, bias=False)\n",
       "  (act_fn): SiLU()\n",
       "  (rms_norm): RMSNorm((3072,), eps=1e-06, elementwise_affine=True)\n",
       ")"
      ]
     },
     "execution_count": 17,
     "metadata": {},
     "output_type": "execute_result"
    }
   ],
   "source": [
    "model.converter"
   ]
  },
  {
   "cell_type": "code",
   "execution_count": 20,
   "id": "0d134c1d",
   "metadata": {},
   "outputs": [
    {
     "name": "stderr",
     "output_type": "stream",
     "text": [
      "huggingface/tokenizers: The current process just got forked, after parallelism has already been used. Disabling parallelism to avoid deadlocks...\n",
      "To disable this warning, you can either:\n",
      "\t- Avoid using `tokenizers` before the fork if possible\n",
      "\t- Explicitly set the environment variable TOKENIZERS_PARALLELISM=(true | false)\n"
     ]
    }
   ],
   "source": [
    "!pip install huggingface_hub -q\n",
    "# huggingface-cli login"
   ]
  },
  {
   "cell_type": "code",
   "execution_count": 25,
   "id": "c6a8c9cb",
   "metadata": {},
   "outputs": [],
   "source": [
    "from huggingface_hub import HfApi, create_repo\n",
    "api = HfApi()"
   ]
  },
  {
   "cell_type": "code",
   "execution_count": null,
   "id": "1a760868",
   "metadata": {},
   "outputs": [
    {
     "name": "stdout",
     "output_type": "stream",
     "text": [
      "Converter 总参数量: 28,314,624\n",
      "Converter 可训练参数量: 28,314,624\n",
      "Converter 参数量 (M): 28.31M\n"
     ]
    }
   ],
   "source": [
    "total_params = 0\n",
    "trainable_params = 0\n",
    "\n",
    "for param in model.converter.parameters():\n",
    "    total_params += param.numel()\n",
    "    if param.requires_grad:\n",
    "        trainable_params += param.numel() \n",
    "\n",
    "print(f\"Converter 总参数量: {total_params:,}\")\n",
    "print(f\"Converter 可训练参数量: {trainable_params:,}\")\n",
    "print(f\"Converter 参数量 (M): {total_params / 1e6:.2f}M\")\n"
   ]
  },
  {
   "cell_type": "code",
   "execution_count": 7,
   "id": "1aff1a65",
   "metadata": {},
   "outputs": [],
   "source": [
    "model.save_pretrained(\"/home/slgx/yuhong/base_model/Qwen/Qwen3-Agentic\")"
   ]
  },
  {
   "cell_type": "code",
   "execution_count": 2,
   "id": "4dc4db1f",
   "metadata": {},
   "outputs": [
    {
     "name": "stderr",
     "output_type": "stream",
     "text": [
      "/home/slgx/miniconda3/envs/memagent/lib/python3.11/site-packages/tqdm/auto.py:21: TqdmWarning: IProgress not found. Please update jupyter and ipywidgets. See https://ipywidgets.readthedocs.io/en/stable/user_install.html\n",
      "  from .autonotebook import tqdm as notebook_tqdm\n"
     ]
    }
   ],
   "source": [
    "from transformers import AutoTokenizer\n",
    "tokenizer = AutoTokenizer.from_pretrained(\"Qwen/Qwen3-14B\")"
   ]
  },
  {
   "cell_type": "code",
   "execution_count": 8,
   "id": "2a620596",
   "metadata": {},
   "outputs": [
    {
     "data": {
      "text/plain": [
       "('/home/slgx/yuhong/base_model/Qwen/Qwen3-Agentic/tokenizer_config.json',\n",
       " '/home/slgx/yuhong/base_model/Qwen/Qwen3-Agentic/special_tokens_map.json',\n",
       " '/home/slgx/yuhong/base_model/Qwen/Qwen3-Agentic/chat_template.jinja',\n",
       " '/home/slgx/yuhong/base_model/Qwen/Qwen3-Agentic/vocab.json',\n",
       " '/home/slgx/yuhong/base_model/Qwen/Qwen3-Agentic/merges.txt',\n",
       " '/home/slgx/yuhong/base_model/Qwen/Qwen3-Agentic/added_tokens.json',\n",
       " '/home/slgx/yuhong/base_model/Qwen/Qwen3-Agentic/tokenizer.json')"
      ]
     },
     "execution_count": 8,
     "metadata": {},
     "output_type": "execute_result"
    }
   ],
   "source": [
    "tokenizer.save_pretrained(\"/home/slgx/yuhong/base_model/Qwen/Qwen3-Agentic\")"
   ]
  },
  {
   "cell_type": "code",
   "execution_count": 1,
   "id": "579c0b9a",
   "metadata": {},
   "outputs": [
    {
     "ename": "NameError",
     "evalue": "name 'model' is not defined",
     "output_type": "error",
     "traceback": [
      "\u001b[31m---------------------------------------------------------------------------\u001b[39m",
      "\u001b[31mNameError\u001b[39m                                 Traceback (most recent call last)",
      "\u001b[36mCell\u001b[39m\u001b[36m \u001b[39m\u001b[32mIn[1]\u001b[39m\u001b[32m, line 1\u001b[39m\n\u001b[32m----> \u001b[39m\u001b[32m1\u001b[39m \u001b[43mmodel\u001b[49m\n",
      "\u001b[31mNameError\u001b[39m: name 'model' is not defined"
     ]
    }
   ],
   "source": [
    "model"
   ]
  },
  {
   "cell_type": "code",
   "execution_count": null,
   "id": "03672456",
   "metadata": {},
   "outputs": [],
   "source": []
  }
 ],
 "metadata": {
  "kernelspec": {
   "display_name": "memagent",
   "language": "python",
   "name": "python3"
  },
  "language_info": {
   "codemirror_mode": {
    "name": "ipython",
    "version": 3
   },
   "file_extension": ".py",
   "mimetype": "text/x-python",
   "name": "python",
   "nbconvert_exporter": "python",
   "pygments_lexer": "ipython3",
   "version": "3.11.0"
  }
 },
 "nbformat": 4,
 "nbformat_minor": 5
}
